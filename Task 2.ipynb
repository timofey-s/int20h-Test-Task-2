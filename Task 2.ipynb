{
 "cells": [
  {
   "cell_type": "code",
   "execution_count": 1,
   "metadata": {},
   "outputs": [],
   "source": [
    "import pandas as pd\n",
    "from collections import defaultdict"
   ]
  },
  {
   "cell_type": "code",
   "execution_count": 2,
   "metadata": {},
   "outputs": [],
   "source": [
    "df = pd.read_csv('data_analytics.csv')"
   ]
  },
  {
   "cell_type": "code",
   "execution_count": 3,
   "metadata": {},
   "outputs": [],
   "source": [
    "# creating dict of users\n",
    "users = defaultdict(lambda: 1) # Subscriber ID => weeks of subscribtion\n",
    "for i, event in df.iterrows():\n",
    "    currentUser = event[\"Subscriber ID\"]\n",
    "    users[currentUser] += 1"
   ]
  },
  {
   "cell_type": "code",
   "execution_count": 4,
   "metadata": {},
   "outputs": [],
   "source": [
    "def conversion(users, fromWeek, toWeek):\n",
    "    sample = 0\n",
    "    converted = 0\n",
    "    for user in users.values():\n",
    "        if user >= fromWeek: sample += 1 \n",
    "        if user >= toWeek: converted += 1 \n",
    "    if converted == 0: return 0\n",
    "    return converted / sample\n",
    "            "
   ]
  },
  {
   "cell_type": "code",
   "execution_count": 5,
   "metadata": {},
   "outputs": [],
   "source": [
    "def LTV(users, incomePerWeek, weeks=6, trialWeeks=1):\n",
    "    ltv = incomePerWeek * conversion(users, trialWeeks, trialWeeks+1)\n",
    "    for week in range(trialWeeks+1, weeks):\n",
    "        ltv += ltv * conversion(users, week, week+1)\n",
    "    return ltv"
   ]
  },
  {
   "cell_type": "code",
   "execution_count": 6,
   "metadata": {},
   "outputs": [
    {
     "name": "stdout",
     "output_type": "stream",
     "text": [
      "LTV: $49.32\n"
     ]
    }
   ],
   "source": [
    "weekSubscriptionPrice = 9.99\n",
    "commission = 0.3\n",
    "print(\"LTV: ${:.2f}\".format(LTV(users, weekSubscriptionPrice * (1-commission), 6)))"
   ]
  },
  {
   "cell_type": "code",
   "execution_count": null,
   "metadata": {},
   "outputs": [],
   "source": []
  }
 ],
 "metadata": {
  "kernelspec": {
   "display_name": "Python 3",
   "language": "python",
   "name": "python3"
  },
  "language_info": {
   "codemirror_mode": {
    "name": "ipython",
    "version": 3
   },
   "file_extension": ".py",
   "mimetype": "text/x-python",
   "name": "python",
   "nbconvert_exporter": "python",
   "pygments_lexer": "ipython3",
   "version": "3.8.0"
  }
 },
 "nbformat": 4,
 "nbformat_minor": 4
}
